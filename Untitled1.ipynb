{
  "cells": [
    {
      "cell_type": "markdown",
      "metadata": {
        "id": "2YtTMIx5fwg_"
      },
      "source": [
        "# Proyek Analisis Data: [Bike Sharing Dataset]\n",
        "\n",
        "---\n",
        "\n",
        "\n",
        "- **Nama:** [Mifzal Novel]\n",
        "- **Email:** [mifzal.novel-2021@fst.unair.ac.id]\n",
        "- **ID Dicoding:** [mifzalnvl9]"
      ]
    },
    {
      "cell_type": "markdown",
      "metadata": {
        "id": "dj7WAk4YfzVw"
      },
      "source": [
        "##Menentukan Pertanyaan Bisnis\n"
      ]
    },
    {
      "cell_type": "markdown",
      "metadata": {
        "id": "Mqasbt8WgBJL"
      },
      "source": [
        "#### Pertanyaan 1 : Bagaimana tren penggunaan sepeda berubah seiring berjalannya waktu?\n",
        "#### Pertanyaan 2 : Apakah ada musim tertentu yang menunjukkan peningkatan atau penurunan penggunaan sepeda?\n"
      ]
    },
    {
      "cell_type": "markdown",
      "metadata": {
        "id": "wO7EGZSWgN_r"
      },
      "source": [
        "#Import Semua Packages/Library yang Digunakan"
      ]
    },
    {
      "cell_type": "code",
      "execution_count": 1,
      "metadata": {
        "id": "f4UosrbGhCJI"
      },
      "outputs": [],
      "source": [
        "import pandas as pd\n",
        "import numpy as np\n",
        "import matplotlib.pyplot as plt\n",
        "import seaborn as sns"
      ]
    },
    {
      "cell_type": "markdown",
      "metadata": {
        "id": "jaFs2vi1gRNT"
      },
      "source": [
        "#Data Wrangling"
      ]
    },
    {
      "cell_type": "code",
      "execution_count": 2,
      "metadata": {
        "colab": {
          "base_uri": "https://localhost:8080/",
          "height": 313
        },
        "id": "oBUQ7ekZhCoe",
        "outputId": "a7ecb86f-db1a-46a2-f6f2-91bd6797d282"
      },
      "outputs": [
        {
          "data": {
            "text/html": [
              "<div>\n",
              "<style scoped>\n",
              "    .dataframe tbody tr th:only-of-type {\n",
              "        vertical-align: middle;\n",
              "    }\n",
              "\n",
              "    .dataframe tbody tr th {\n",
              "        vertical-align: top;\n",
              "    }\n",
              "\n",
              "    .dataframe thead th {\n",
              "        text-align: right;\n",
              "    }\n",
              "</style>\n",
              "<table border=\"1\" class=\"dataframe\">\n",
              "  <thead>\n",
              "    <tr style=\"text-align: right;\">\n",
              "      <th></th>\n",
              "      <th>instant</th>\n",
              "      <th>dteday</th>\n",
              "      <th>season</th>\n",
              "      <th>yr</th>\n",
              "      <th>mnth</th>\n",
              "      <th>hr</th>\n",
              "      <th>holiday</th>\n",
              "      <th>weekday</th>\n",
              "      <th>workingday</th>\n",
              "      <th>weathersit</th>\n",
              "      <th>temp</th>\n",
              "      <th>atemp</th>\n",
              "      <th>hum</th>\n",
              "      <th>windspeed</th>\n",
              "      <th>casual</th>\n",
              "      <th>registered</th>\n",
              "      <th>cnt</th>\n",
              "    </tr>\n",
              "  </thead>\n",
              "  <tbody>\n",
              "    <tr>\n",
              "      <th>0</th>\n",
              "      <td>1</td>\n",
              "      <td>2011-01-01</td>\n",
              "      <td>1</td>\n",
              "      <td>0</td>\n",
              "      <td>1</td>\n",
              "      <td>0</td>\n",
              "      <td>0</td>\n",
              "      <td>6</td>\n",
              "      <td>0</td>\n",
              "      <td>1</td>\n",
              "      <td>0.24</td>\n",
              "      <td>0.2879</td>\n",
              "      <td>0.81</td>\n",
              "      <td>0.0</td>\n",
              "      <td>3</td>\n",
              "      <td>13</td>\n",
              "      <td>16</td>\n",
              "    </tr>\n",
              "    <tr>\n",
              "      <th>1</th>\n",
              "      <td>2</td>\n",
              "      <td>2011-01-01</td>\n",
              "      <td>1</td>\n",
              "      <td>0</td>\n",
              "      <td>1</td>\n",
              "      <td>1</td>\n",
              "      <td>0</td>\n",
              "      <td>6</td>\n",
              "      <td>0</td>\n",
              "      <td>1</td>\n",
              "      <td>0.22</td>\n",
              "      <td>0.2727</td>\n",
              "      <td>0.80</td>\n",
              "      <td>0.0</td>\n",
              "      <td>8</td>\n",
              "      <td>32</td>\n",
              "      <td>40</td>\n",
              "    </tr>\n",
              "    <tr>\n",
              "      <th>2</th>\n",
              "      <td>3</td>\n",
              "      <td>2011-01-01</td>\n",
              "      <td>1</td>\n",
              "      <td>0</td>\n",
              "      <td>1</td>\n",
              "      <td>2</td>\n",
              "      <td>0</td>\n",
              "      <td>6</td>\n",
              "      <td>0</td>\n",
              "      <td>1</td>\n",
              "      <td>0.22</td>\n",
              "      <td>0.2727</td>\n",
              "      <td>0.80</td>\n",
              "      <td>0.0</td>\n",
              "      <td>5</td>\n",
              "      <td>27</td>\n",
              "      <td>32</td>\n",
              "    </tr>\n",
              "    <tr>\n",
              "      <th>3</th>\n",
              "      <td>4</td>\n",
              "      <td>2011-01-01</td>\n",
              "      <td>1</td>\n",
              "      <td>0</td>\n",
              "      <td>1</td>\n",
              "      <td>3</td>\n",
              "      <td>0</td>\n",
              "      <td>6</td>\n",
              "      <td>0</td>\n",
              "      <td>1</td>\n",
              "      <td>0.24</td>\n",
              "      <td>0.2879</td>\n",
              "      <td>0.75</td>\n",
              "      <td>0.0</td>\n",
              "      <td>3</td>\n",
              "      <td>10</td>\n",
              "      <td>13</td>\n",
              "    </tr>\n",
              "    <tr>\n",
              "      <th>4</th>\n",
              "      <td>5</td>\n",
              "      <td>2011-01-01</td>\n",
              "      <td>1</td>\n",
              "      <td>0</td>\n",
              "      <td>1</td>\n",
              "      <td>4</td>\n",
              "      <td>0</td>\n",
              "      <td>6</td>\n",
              "      <td>0</td>\n",
              "      <td>1</td>\n",
              "      <td>0.24</td>\n",
              "      <td>0.2879</td>\n",
              "      <td>0.75</td>\n",
              "      <td>0.0</td>\n",
              "      <td>0</td>\n",
              "      <td>1</td>\n",
              "      <td>1</td>\n",
              "    </tr>\n",
              "  </tbody>\n",
              "</table>\n",
              "</div>"
            ],
            "text/plain": [
              "   instant      dteday  season  yr  mnth  hr  holiday  weekday  workingday  \\\n",
              "0        1  2011-01-01       1   0     1   0        0        6           0   \n",
              "1        2  2011-01-01       1   0     1   1        0        6           0   \n",
              "2        3  2011-01-01       1   0     1   2        0        6           0   \n",
              "3        4  2011-01-01       1   0     1   3        0        6           0   \n",
              "4        5  2011-01-01       1   0     1   4        0        6           0   \n",
              "\n",
              "   weathersit  temp   atemp   hum  windspeed  casual  registered  cnt  \n",
              "0           1  0.24  0.2879  0.81        0.0       3          13   16  \n",
              "1           1  0.22  0.2727  0.80        0.0       8          32   40  \n",
              "2           1  0.22  0.2727  0.80        0.0       5          27   32  \n",
              "3           1  0.24  0.2879  0.75        0.0       3          10   13  \n",
              "4           1  0.24  0.2879  0.75        0.0       0           1    1  "
            ]
          },
          "execution_count": 2,
          "metadata": {},
          "output_type": "execute_result"
        }
      ],
      "source": [
        "data = pd.read_csv(\"hour.csv\")\n",
        "data.head()"
      ]
    },
    {
      "cell_type": "code",
      "execution_count": 3,
      "metadata": {
        "colab": {
          "base_uri": "https://localhost:8080/"
        },
        "id": "qazM1MyYhjSt",
        "outputId": "c69e0c40-1ae6-4a26-9c47-40c99f5d5b44"
      },
      "outputs": [
        {
          "name": "stdout",
          "output_type": "stream",
          "text": [
            "<class 'pandas.core.frame.DataFrame'>\n",
            "RangeIndex: 17379 entries, 0 to 17378\n",
            "Data columns (total 17 columns):\n",
            " #   Column      Non-Null Count  Dtype  \n",
            "---  ------      --------------  -----  \n",
            " 0   instant     17379 non-null  int64  \n",
            " 1   dteday      17379 non-null  object \n",
            " 2   season      17379 non-null  int64  \n",
            " 3   yr          17379 non-null  int64  \n",
            " 4   mnth        17379 non-null  int64  \n",
            " 5   hr          17379 non-null  int64  \n",
            " 6   holiday     17379 non-null  int64  \n",
            " 7   weekday     17379 non-null  int64  \n",
            " 8   workingday  17379 non-null  int64  \n",
            " 9   weathersit  17379 non-null  int64  \n",
            " 10  temp        17379 non-null  float64\n",
            " 11  atemp       17379 non-null  float64\n",
            " 12  hum         17379 non-null  float64\n",
            " 13  windspeed   17379 non-null  float64\n",
            " 14  casual      17379 non-null  int64  \n",
            " 15  registered  17379 non-null  int64  \n",
            " 16  cnt         17379 non-null  int64  \n",
            "dtypes: float64(4), int64(12), object(1)\n",
            "memory usage: 2.3+ MB\n"
          ]
        }
      ],
      "source": [
        "data.info()"
      ]
    },
    {
      "cell_type": "markdown",
      "metadata": {
        "id": "ycJj2RFMhz8s"
      },
      "source": [
        "#merapikan data\n"
      ]
    },
    {
      "cell_type": "code",
      "execution_count": 4,
      "metadata": {
        "colab": {
          "base_uri": "https://localhost:8080/"
        },
        "id": "hQFLnP6yh3CU",
        "outputId": "533becb6-15cd-40e7-bc22-e54a0b494917"
      },
      "outputs": [
        {
          "data": {
            "text/plain": [
              "0"
            ]
          },
          "execution_count": 4,
          "metadata": {},
          "output_type": "execute_result"
        }
      ],
      "source": [
        "## Memeriksa apakah terdapat nilai duplikat\n",
        "data.duplicated().sum()"
      ]
    },
    {
      "cell_type": "code",
      "execution_count": 5,
      "metadata": {
        "colab": {
          "base_uri": "https://localhost:8080/",
          "height": 320
        },
        "id": "vFoMQgvTh-NQ",
        "outputId": "208b5d54-dffc-4e89-8d45-e73aaf6913e8"
      },
      "outputs": [
        {
          "data": {
            "text/html": [
              "<div>\n",
              "<style scoped>\n",
              "    .dataframe tbody tr th:only-of-type {\n",
              "        vertical-align: middle;\n",
              "    }\n",
              "\n",
              "    .dataframe tbody tr th {\n",
              "        vertical-align: top;\n",
              "    }\n",
              "\n",
              "    .dataframe thead th {\n",
              "        text-align: right;\n",
              "    }\n",
              "</style>\n",
              "<table border=\"1\" class=\"dataframe\">\n",
              "  <thead>\n",
              "    <tr style=\"text-align: right;\">\n",
              "      <th></th>\n",
              "      <th>instant</th>\n",
              "      <th>season</th>\n",
              "      <th>yr</th>\n",
              "      <th>mnth</th>\n",
              "      <th>hr</th>\n",
              "      <th>holiday</th>\n",
              "      <th>weekday</th>\n",
              "      <th>workingday</th>\n",
              "      <th>weathersit</th>\n",
              "      <th>temp</th>\n",
              "      <th>atemp</th>\n",
              "      <th>hum</th>\n",
              "      <th>windspeed</th>\n",
              "      <th>casual</th>\n",
              "      <th>registered</th>\n",
              "      <th>cnt</th>\n",
              "    </tr>\n",
              "  </thead>\n",
              "  <tbody>\n",
              "    <tr>\n",
              "      <th>count</th>\n",
              "      <td>17379.0000</td>\n",
              "      <td>17379.000000</td>\n",
              "      <td>17379.000000</td>\n",
              "      <td>17379.000000</td>\n",
              "      <td>17379.000000</td>\n",
              "      <td>17379.000000</td>\n",
              "      <td>17379.000000</td>\n",
              "      <td>17379.000000</td>\n",
              "      <td>17379.000000</td>\n",
              "      <td>17379.000000</td>\n",
              "      <td>17379.000000</td>\n",
              "      <td>17379.000000</td>\n",
              "      <td>17379.000000</td>\n",
              "      <td>17379.000000</td>\n",
              "      <td>17379.000000</td>\n",
              "      <td>17379.000000</td>\n",
              "    </tr>\n",
              "    <tr>\n",
              "      <th>mean</th>\n",
              "      <td>8690.0000</td>\n",
              "      <td>2.501640</td>\n",
              "      <td>0.502561</td>\n",
              "      <td>6.537775</td>\n",
              "      <td>11.546752</td>\n",
              "      <td>0.028770</td>\n",
              "      <td>3.003683</td>\n",
              "      <td>0.682721</td>\n",
              "      <td>1.425283</td>\n",
              "      <td>0.496987</td>\n",
              "      <td>0.475775</td>\n",
              "      <td>0.627229</td>\n",
              "      <td>0.190098</td>\n",
              "      <td>35.676218</td>\n",
              "      <td>153.786869</td>\n",
              "      <td>189.463088</td>\n",
              "    </tr>\n",
              "    <tr>\n",
              "      <th>std</th>\n",
              "      <td>5017.0295</td>\n",
              "      <td>1.106918</td>\n",
              "      <td>0.500008</td>\n",
              "      <td>3.438776</td>\n",
              "      <td>6.914405</td>\n",
              "      <td>0.167165</td>\n",
              "      <td>2.005771</td>\n",
              "      <td>0.465431</td>\n",
              "      <td>0.639357</td>\n",
              "      <td>0.192556</td>\n",
              "      <td>0.171850</td>\n",
              "      <td>0.192930</td>\n",
              "      <td>0.122340</td>\n",
              "      <td>49.305030</td>\n",
              "      <td>151.357286</td>\n",
              "      <td>181.387599</td>\n",
              "    </tr>\n",
              "    <tr>\n",
              "      <th>min</th>\n",
              "      <td>1.0000</td>\n",
              "      <td>1.000000</td>\n",
              "      <td>0.000000</td>\n",
              "      <td>1.000000</td>\n",
              "      <td>0.000000</td>\n",
              "      <td>0.000000</td>\n",
              "      <td>0.000000</td>\n",
              "      <td>0.000000</td>\n",
              "      <td>1.000000</td>\n",
              "      <td>0.020000</td>\n",
              "      <td>0.000000</td>\n",
              "      <td>0.000000</td>\n",
              "      <td>0.000000</td>\n",
              "      <td>0.000000</td>\n",
              "      <td>0.000000</td>\n",
              "      <td>1.000000</td>\n",
              "    </tr>\n",
              "    <tr>\n",
              "      <th>25%</th>\n",
              "      <td>4345.5000</td>\n",
              "      <td>2.000000</td>\n",
              "      <td>0.000000</td>\n",
              "      <td>4.000000</td>\n",
              "      <td>6.000000</td>\n",
              "      <td>0.000000</td>\n",
              "      <td>1.000000</td>\n",
              "      <td>0.000000</td>\n",
              "      <td>1.000000</td>\n",
              "      <td>0.340000</td>\n",
              "      <td>0.333300</td>\n",
              "      <td>0.480000</td>\n",
              "      <td>0.104500</td>\n",
              "      <td>4.000000</td>\n",
              "      <td>34.000000</td>\n",
              "      <td>40.000000</td>\n",
              "    </tr>\n",
              "    <tr>\n",
              "      <th>50%</th>\n",
              "      <td>8690.0000</td>\n",
              "      <td>3.000000</td>\n",
              "      <td>1.000000</td>\n",
              "      <td>7.000000</td>\n",
              "      <td>12.000000</td>\n",
              "      <td>0.000000</td>\n",
              "      <td>3.000000</td>\n",
              "      <td>1.000000</td>\n",
              "      <td>1.000000</td>\n",
              "      <td>0.500000</td>\n",
              "      <td>0.484800</td>\n",
              "      <td>0.630000</td>\n",
              "      <td>0.194000</td>\n",
              "      <td>17.000000</td>\n",
              "      <td>115.000000</td>\n",
              "      <td>142.000000</td>\n",
              "    </tr>\n",
              "    <tr>\n",
              "      <th>75%</th>\n",
              "      <td>13034.5000</td>\n",
              "      <td>3.000000</td>\n",
              "      <td>1.000000</td>\n",
              "      <td>10.000000</td>\n",
              "      <td>18.000000</td>\n",
              "      <td>0.000000</td>\n",
              "      <td>5.000000</td>\n",
              "      <td>1.000000</td>\n",
              "      <td>2.000000</td>\n",
              "      <td>0.660000</td>\n",
              "      <td>0.621200</td>\n",
              "      <td>0.780000</td>\n",
              "      <td>0.253700</td>\n",
              "      <td>48.000000</td>\n",
              "      <td>220.000000</td>\n",
              "      <td>281.000000</td>\n",
              "    </tr>\n",
              "    <tr>\n",
              "      <th>max</th>\n",
              "      <td>17379.0000</td>\n",
              "      <td>4.000000</td>\n",
              "      <td>1.000000</td>\n",
              "      <td>12.000000</td>\n",
              "      <td>23.000000</td>\n",
              "      <td>1.000000</td>\n",
              "      <td>6.000000</td>\n",
              "      <td>1.000000</td>\n",
              "      <td>4.000000</td>\n",
              "      <td>1.000000</td>\n",
              "      <td>1.000000</td>\n",
              "      <td>1.000000</td>\n",
              "      <td>0.850700</td>\n",
              "      <td>367.000000</td>\n",
              "      <td>886.000000</td>\n",
              "      <td>977.000000</td>\n",
              "    </tr>\n",
              "  </tbody>\n",
              "</table>\n",
              "</div>"
            ],
            "text/plain": [
              "          instant        season            yr          mnth            hr  \\\n",
              "count  17379.0000  17379.000000  17379.000000  17379.000000  17379.000000   \n",
              "mean    8690.0000      2.501640      0.502561      6.537775     11.546752   \n",
              "std     5017.0295      1.106918      0.500008      3.438776      6.914405   \n",
              "min        1.0000      1.000000      0.000000      1.000000      0.000000   \n",
              "25%     4345.5000      2.000000      0.000000      4.000000      6.000000   \n",
              "50%     8690.0000      3.000000      1.000000      7.000000     12.000000   \n",
              "75%    13034.5000      3.000000      1.000000     10.000000     18.000000   \n",
              "max    17379.0000      4.000000      1.000000     12.000000     23.000000   \n",
              "\n",
              "            holiday       weekday    workingday    weathersit          temp  \\\n",
              "count  17379.000000  17379.000000  17379.000000  17379.000000  17379.000000   \n",
              "mean       0.028770      3.003683      0.682721      1.425283      0.496987   \n",
              "std        0.167165      2.005771      0.465431      0.639357      0.192556   \n",
              "min        0.000000      0.000000      0.000000      1.000000      0.020000   \n",
              "25%        0.000000      1.000000      0.000000      1.000000      0.340000   \n",
              "50%        0.000000      3.000000      1.000000      1.000000      0.500000   \n",
              "75%        0.000000      5.000000      1.000000      2.000000      0.660000   \n",
              "max        1.000000      6.000000      1.000000      4.000000      1.000000   \n",
              "\n",
              "              atemp           hum     windspeed        casual    registered  \\\n",
              "count  17379.000000  17379.000000  17379.000000  17379.000000  17379.000000   \n",
              "mean       0.475775      0.627229      0.190098     35.676218    153.786869   \n",
              "std        0.171850      0.192930      0.122340     49.305030    151.357286   \n",
              "min        0.000000      0.000000      0.000000      0.000000      0.000000   \n",
              "25%        0.333300      0.480000      0.104500      4.000000     34.000000   \n",
              "50%        0.484800      0.630000      0.194000     17.000000    115.000000   \n",
              "75%        0.621200      0.780000      0.253700     48.000000    220.000000   \n",
              "max        1.000000      1.000000      0.850700    367.000000    886.000000   \n",
              "\n",
              "                cnt  \n",
              "count  17379.000000  \n",
              "mean     189.463088  \n",
              "std      181.387599  \n",
              "min        1.000000  \n",
              "25%       40.000000  \n",
              "50%      142.000000  \n",
              "75%      281.000000  \n",
              "max      977.000000  "
            ]
          },
          "execution_count": 5,
          "metadata": {},
          "output_type": "execute_result"
        }
      ],
      "source": [
        "data.describe()"
      ]
    },
    {
      "cell_type": "code",
      "execution_count": 6,
      "metadata": {
        "id": "r3ihCJIbiB_o"
      },
      "outputs": [],
      "source": [
        "## Mengubah tipe data pada beberapa kolom\n",
        "\n",
        "data['dteday'] = pd.to_datetime(data['dteday'])\n",
        "data['season'] = data.season.astype('category')\n",
        "data['mnth'] = data.mnth.astype('category')\n",
        "data['holiday'] = data.holiday.astype('category')\n",
        "data['weekday'] = data.weekday.astype('category')\n",
        "data['workingday'] = data.workingday.astype('category')\n",
        "data['weathersit'] = data.weathersit.astype('category')"
      ]
    },
    {
      "cell_type": "code",
      "execution_count": 7,
      "metadata": {
        "colab": {
          "base_uri": "https://localhost:8080/"
        },
        "id": "iAQHTFdCiE5Z",
        "outputId": "cce36a28-3435-42bd-8330-bcc88094616d"
      },
      "outputs": [
        {
          "name": "stdout",
          "output_type": "stream",
          "text": [
            "<class 'pandas.core.frame.DataFrame'>\n",
            "RangeIndex: 17379 entries, 0 to 17378\n",
            "Data columns (total 17 columns):\n",
            " #   Column      Non-Null Count  Dtype         \n",
            "---  ------      --------------  -----         \n",
            " 0   instant     17379 non-null  int64         \n",
            " 1   dteday      17379 non-null  datetime64[ns]\n",
            " 2   season      17379 non-null  category      \n",
            " 3   yr          17379 non-null  int64         \n",
            " 4   mnth        17379 non-null  category      \n",
            " 5   hr          17379 non-null  int64         \n",
            " 6   holiday     17379 non-null  category      \n",
            " 7   weekday     17379 non-null  category      \n",
            " 8   workingday  17379 non-null  category      \n",
            " 9   weathersit  17379 non-null  category      \n",
            " 10  temp        17379 non-null  float64       \n",
            " 11  atemp       17379 non-null  float64       \n",
            " 12  hum         17379 non-null  float64       \n",
            " 13  windspeed   17379 non-null  float64       \n",
            " 14  casual      17379 non-null  int64         \n",
            " 15  registered  17379 non-null  int64         \n",
            " 16  cnt         17379 non-null  int64         \n",
            "dtypes: category(6), datetime64[ns](1), float64(4), int64(6)\n",
            "memory usage: 1.6 MB\n"
          ]
        }
      ],
      "source": [
        "data.info()"
      ]
    },
    {
      "cell_type": "code",
      "execution_count": 8,
      "metadata": {
        "id": "sqY0oA_biQn5"
      },
      "outputs": [],
      "source": [
        "# Mengonversi data pada kolom kategori variabel berdasarkan kriteria\n",
        "# yang ditunjukkan pada file readme.txt\n",
        "\n",
        "# Konversi nilai untuk kolom 'season' : 1:Winter, 2:Spring, 3:Summer, 4:Fall\n",
        "data.season.replace((1,2,3,4), ('Winter','Spring','Summer','Fall'), inplace=True)\n",
        "\n",
        "# Konversi nilai untuk kolom 'yr' : 0:2011, 1:2012\n",
        "data.yr.replace((0,1), (2011,2012), inplace=True)\n",
        "\n",
        "# Konversi nilai untuk kolom 'mnth' :  1:Jan, 2:Feb, 3:Mar, 4:Apr, 5:May, 6:Jun, 7:Jul, 8:Aug, 9:Sep, 10:Oct, 11:Nov, 12:Dec\n",
        "data.mnth.replace((1,2,3,4,5,6,7,8,9,10,11,12),('Jan','Feb','Mar','Apr','May','Jun','Jul','Aug','Sep','Oct','Nov','Dec'), inplace=True)\n",
        "\n",
        "# Konversi nilai untuk kolom 'weathersit' : 1:Clear, 2:Misty, 3:Light_RainSnow 4:Heavy_RainSnow\n",
        "data.weathersit.replace((1,2,3,4), ('Clear','Misty','Light_RainSnow','Heavy_RainSnow'), inplace=True)\n",
        "\n",
        "# Konversi nilai untuk kolom 'weekday' : 0:Sun, 1:Mon, 2:Tue, 3:Wed, 4:Thu, 5:Fri, 6:Sat\n",
        "data.weekday.replace((0,1,2,3,4,5,6), ('Sunday','Monday','Tuesday','Wednesday','Thursday','Friday','Saturday'), inplace=True)\n",
        "\n",
        "# Konversi nilai untuk kolom 'workingday' : 0:No, 1:Yes\n",
        "data.workingday.replace((0,1), ('No', 'Yes'), inplace=True)"
      ]
    },
    {
      "cell_type": "code",
      "execution_count": 9,
      "metadata": {
        "colab": {
          "base_uri": "https://localhost:8080/",
          "height": 313
        },
        "id": "VSeZRMcniYSm",
        "outputId": "b11f83a9-792c-40d7-b100-fd3b14da0849"
      },
      "outputs": [
        {
          "data": {
            "text/html": [
              "<div>\n",
              "<style scoped>\n",
              "    .dataframe tbody tr th:only-of-type {\n",
              "        vertical-align: middle;\n",
              "    }\n",
              "\n",
              "    .dataframe tbody tr th {\n",
              "        vertical-align: top;\n",
              "    }\n",
              "\n",
              "    .dataframe thead th {\n",
              "        text-align: right;\n",
              "    }\n",
              "</style>\n",
              "<table border=\"1\" class=\"dataframe\">\n",
              "  <thead>\n",
              "    <tr style=\"text-align: right;\">\n",
              "      <th></th>\n",
              "      <th>dteday</th>\n",
              "      <th>season</th>\n",
              "      <th>yr</th>\n",
              "      <th>mnth</th>\n",
              "      <th>hr</th>\n",
              "      <th>holiday</th>\n",
              "      <th>weekday</th>\n",
              "      <th>workingday</th>\n",
              "      <th>weathersit</th>\n",
              "      <th>temp</th>\n",
              "      <th>atemp</th>\n",
              "      <th>hum</th>\n",
              "      <th>windspeed</th>\n",
              "      <th>casual</th>\n",
              "      <th>registered</th>\n",
              "      <th>cnt</th>\n",
              "    </tr>\n",
              "  </thead>\n",
              "  <tbody>\n",
              "    <tr>\n",
              "      <th>0</th>\n",
              "      <td>2011-01-01</td>\n",
              "      <td>Winter</td>\n",
              "      <td>2011</td>\n",
              "      <td>Jan</td>\n",
              "      <td>0</td>\n",
              "      <td>0</td>\n",
              "      <td>Saturday</td>\n",
              "      <td>No</td>\n",
              "      <td>Clear</td>\n",
              "      <td>0.24</td>\n",
              "      <td>0.2879</td>\n",
              "      <td>0.81</td>\n",
              "      <td>0.0</td>\n",
              "      <td>3</td>\n",
              "      <td>13</td>\n",
              "      <td>16</td>\n",
              "    </tr>\n",
              "    <tr>\n",
              "      <th>1</th>\n",
              "      <td>2011-01-01</td>\n",
              "      <td>Winter</td>\n",
              "      <td>2011</td>\n",
              "      <td>Jan</td>\n",
              "      <td>1</td>\n",
              "      <td>0</td>\n",
              "      <td>Saturday</td>\n",
              "      <td>No</td>\n",
              "      <td>Clear</td>\n",
              "      <td>0.22</td>\n",
              "      <td>0.2727</td>\n",
              "      <td>0.80</td>\n",
              "      <td>0.0</td>\n",
              "      <td>8</td>\n",
              "      <td>32</td>\n",
              "      <td>40</td>\n",
              "    </tr>\n",
              "    <tr>\n",
              "      <th>2</th>\n",
              "      <td>2011-01-01</td>\n",
              "      <td>Winter</td>\n",
              "      <td>2011</td>\n",
              "      <td>Jan</td>\n",
              "      <td>2</td>\n",
              "      <td>0</td>\n",
              "      <td>Saturday</td>\n",
              "      <td>No</td>\n",
              "      <td>Clear</td>\n",
              "      <td>0.22</td>\n",
              "      <td>0.2727</td>\n",
              "      <td>0.80</td>\n",
              "      <td>0.0</td>\n",
              "      <td>5</td>\n",
              "      <td>27</td>\n",
              "      <td>32</td>\n",
              "    </tr>\n",
              "    <tr>\n",
              "      <th>3</th>\n",
              "      <td>2011-01-01</td>\n",
              "      <td>Winter</td>\n",
              "      <td>2011</td>\n",
              "      <td>Jan</td>\n",
              "      <td>3</td>\n",
              "      <td>0</td>\n",
              "      <td>Saturday</td>\n",
              "      <td>No</td>\n",
              "      <td>Clear</td>\n",
              "      <td>0.24</td>\n",
              "      <td>0.2879</td>\n",
              "      <td>0.75</td>\n",
              "      <td>0.0</td>\n",
              "      <td>3</td>\n",
              "      <td>10</td>\n",
              "      <td>13</td>\n",
              "    </tr>\n",
              "    <tr>\n",
              "      <th>4</th>\n",
              "      <td>2011-01-01</td>\n",
              "      <td>Winter</td>\n",
              "      <td>2011</td>\n",
              "      <td>Jan</td>\n",
              "      <td>4</td>\n",
              "      <td>0</td>\n",
              "      <td>Saturday</td>\n",
              "      <td>No</td>\n",
              "      <td>Clear</td>\n",
              "      <td>0.24</td>\n",
              "      <td>0.2879</td>\n",
              "      <td>0.75</td>\n",
              "      <td>0.0</td>\n",
              "      <td>0</td>\n",
              "      <td>1</td>\n",
              "      <td>1</td>\n",
              "    </tr>\n",
              "  </tbody>\n",
              "</table>\n",
              "</div>"
            ],
            "text/plain": [
              "      dteday  season    yr mnth  hr holiday   weekday workingday weathersit  \\\n",
              "0 2011-01-01  Winter  2011  Jan   0       0  Saturday         No      Clear   \n",
              "1 2011-01-01  Winter  2011  Jan   1       0  Saturday         No      Clear   \n",
              "2 2011-01-01  Winter  2011  Jan   2       0  Saturday         No      Clear   \n",
              "3 2011-01-01  Winter  2011  Jan   3       0  Saturday         No      Clear   \n",
              "4 2011-01-01  Winter  2011  Jan   4       0  Saturday         No      Clear   \n",
              "\n",
              "   temp   atemp   hum  windspeed  casual  registered  cnt  \n",
              "0  0.24  0.2879  0.81        0.0       3          13   16  \n",
              "1  0.22  0.2727  0.80        0.0       8          32   40  \n",
              "2  0.22  0.2727  0.80        0.0       5          27   32  \n",
              "3  0.24  0.2879  0.75        0.0       3          10   13  \n",
              "4  0.24  0.2879  0.75        0.0       0           1    1  "
            ]
          },
          "execution_count": 9,
          "metadata": {},
          "output_type": "execute_result"
        }
      ],
      "source": [
        "# Drop kolom yang tidak digunakan dalam data\n",
        "data = data.drop(\"instant\", axis=1)\n",
        "data.head()"
      ]
    },
    {
      "cell_type": "code",
      "execution_count": 10,
      "metadata": {
        "id": "ZI9GDPG7icSH"
      },
      "outputs": [],
      "source": [
        "# Merubah nama kolom\n",
        "\n",
        "data.rename(columns={\n",
        "    \"dteday\" : \"date\",\n",
        "    \"yr\" : \"year\",\n",
        "    \"mnth\" : \"month\",\n",
        "    \"weathersit\" : \"weather\",\n",
        "    \"hum\" : \"humidity\",\n",
        "    \"cnt\" : \"total_count\"}, inplace=True\n",
        ")"
      ]
    },
    {
      "cell_type": "code",
      "execution_count": 11,
      "metadata": {
        "id": "m17qfgK6ifNF"
      },
      "outputs": [],
      "source": [
        "# Merubah nilai dari 'temp', 'atemp', 'humidity, 'windspeed' ke dalam nilai yang belum dinormalisasi\n",
        "\n",
        "data['temp'] = data['temp']*41\n",
        "data['atemp'] = data['atemp']*50\n",
        "data['humidity'] = data['humidity']*100\n",
        "data['windspeed'] = data['windspeed']*67"
      ]
    },
    {
      "cell_type": "code",
      "execution_count": 12,
      "metadata": {
        "colab": {
          "base_uri": "https://localhost:8080/",
          "height": 730
        },
        "id": "JE3CkEwZihhT",
        "outputId": "d17d00c6-8bd2-4cbb-c1df-8ac0c1c8fff2"
      },
      "outputs": [
        {
          "data": {
            "text/html": [
              "<div>\n",
              "<style scoped>\n",
              "    .dataframe tbody tr th:only-of-type {\n",
              "        vertical-align: middle;\n",
              "    }\n",
              "\n",
              "    .dataframe tbody tr th {\n",
              "        vertical-align: top;\n",
              "    }\n",
              "\n",
              "    .dataframe thead th {\n",
              "        text-align: right;\n",
              "    }\n",
              "</style>\n",
              "<table border=\"1\" class=\"dataframe\">\n",
              "  <thead>\n",
              "    <tr style=\"text-align: right;\">\n",
              "      <th></th>\n",
              "      <th>date</th>\n",
              "      <th>season</th>\n",
              "      <th>year</th>\n",
              "      <th>month</th>\n",
              "      <th>hr</th>\n",
              "      <th>holiday</th>\n",
              "      <th>weekday</th>\n",
              "      <th>workingday</th>\n",
              "      <th>weather</th>\n",
              "      <th>temp</th>\n",
              "      <th>atemp</th>\n",
              "      <th>humidity</th>\n",
              "      <th>windspeed</th>\n",
              "      <th>casual</th>\n",
              "      <th>registered</th>\n",
              "      <th>total_count</th>\n",
              "    </tr>\n",
              "  </thead>\n",
              "  <tbody>\n",
              "    <tr>\n",
              "      <th>0</th>\n",
              "      <td>2011-01-01</td>\n",
              "      <td>Winter</td>\n",
              "      <td>2011</td>\n",
              "      <td>Jan</td>\n",
              "      <td>0</td>\n",
              "      <td>0</td>\n",
              "      <td>Saturday</td>\n",
              "      <td>No</td>\n",
              "      <td>Clear</td>\n",
              "      <td>9.84</td>\n",
              "      <td>14.395</td>\n",
              "      <td>81.0</td>\n",
              "      <td>0.0000</td>\n",
              "      <td>3</td>\n",
              "      <td>13</td>\n",
              "      <td>16</td>\n",
              "    </tr>\n",
              "    <tr>\n",
              "      <th>1</th>\n",
              "      <td>2011-01-01</td>\n",
              "      <td>Winter</td>\n",
              "      <td>2011</td>\n",
              "      <td>Jan</td>\n",
              "      <td>1</td>\n",
              "      <td>0</td>\n",
              "      <td>Saturday</td>\n",
              "      <td>No</td>\n",
              "      <td>Clear</td>\n",
              "      <td>9.02</td>\n",
              "      <td>13.635</td>\n",
              "      <td>80.0</td>\n",
              "      <td>0.0000</td>\n",
              "      <td>8</td>\n",
              "      <td>32</td>\n",
              "      <td>40</td>\n",
              "    </tr>\n",
              "    <tr>\n",
              "      <th>2</th>\n",
              "      <td>2011-01-01</td>\n",
              "      <td>Winter</td>\n",
              "      <td>2011</td>\n",
              "      <td>Jan</td>\n",
              "      <td>2</td>\n",
              "      <td>0</td>\n",
              "      <td>Saturday</td>\n",
              "      <td>No</td>\n",
              "      <td>Clear</td>\n",
              "      <td>9.02</td>\n",
              "      <td>13.635</td>\n",
              "      <td>80.0</td>\n",
              "      <td>0.0000</td>\n",
              "      <td>5</td>\n",
              "      <td>27</td>\n",
              "      <td>32</td>\n",
              "    </tr>\n",
              "    <tr>\n",
              "      <th>3</th>\n",
              "      <td>2011-01-01</td>\n",
              "      <td>Winter</td>\n",
              "      <td>2011</td>\n",
              "      <td>Jan</td>\n",
              "      <td>3</td>\n",
              "      <td>0</td>\n",
              "      <td>Saturday</td>\n",
              "      <td>No</td>\n",
              "      <td>Clear</td>\n",
              "      <td>9.84</td>\n",
              "      <td>14.395</td>\n",
              "      <td>75.0</td>\n",
              "      <td>0.0000</td>\n",
              "      <td>3</td>\n",
              "      <td>10</td>\n",
              "      <td>13</td>\n",
              "    </tr>\n",
              "    <tr>\n",
              "      <th>4</th>\n",
              "      <td>2011-01-01</td>\n",
              "      <td>Winter</td>\n",
              "      <td>2011</td>\n",
              "      <td>Jan</td>\n",
              "      <td>4</td>\n",
              "      <td>0</td>\n",
              "      <td>Saturday</td>\n",
              "      <td>No</td>\n",
              "      <td>Clear</td>\n",
              "      <td>9.84</td>\n",
              "      <td>14.395</td>\n",
              "      <td>75.0</td>\n",
              "      <td>0.0000</td>\n",
              "      <td>0</td>\n",
              "      <td>1</td>\n",
              "      <td>1</td>\n",
              "    </tr>\n",
              "    <tr>\n",
              "      <th>5</th>\n",
              "      <td>2011-01-01</td>\n",
              "      <td>Winter</td>\n",
              "      <td>2011</td>\n",
              "      <td>Jan</td>\n",
              "      <td>5</td>\n",
              "      <td>0</td>\n",
              "      <td>Saturday</td>\n",
              "      <td>No</td>\n",
              "      <td>Misty</td>\n",
              "      <td>9.84</td>\n",
              "      <td>12.880</td>\n",
              "      <td>75.0</td>\n",
              "      <td>6.0032</td>\n",
              "      <td>0</td>\n",
              "      <td>1</td>\n",
              "      <td>1</td>\n",
              "    </tr>\n",
              "    <tr>\n",
              "      <th>6</th>\n",
              "      <td>2011-01-01</td>\n",
              "      <td>Winter</td>\n",
              "      <td>2011</td>\n",
              "      <td>Jan</td>\n",
              "      <td>6</td>\n",
              "      <td>0</td>\n",
              "      <td>Saturday</td>\n",
              "      <td>No</td>\n",
              "      <td>Clear</td>\n",
              "      <td>9.02</td>\n",
              "      <td>13.635</td>\n",
              "      <td>80.0</td>\n",
              "      <td>0.0000</td>\n",
              "      <td>2</td>\n",
              "      <td>0</td>\n",
              "      <td>2</td>\n",
              "    </tr>\n",
              "    <tr>\n",
              "      <th>7</th>\n",
              "      <td>2011-01-01</td>\n",
              "      <td>Winter</td>\n",
              "      <td>2011</td>\n",
              "      <td>Jan</td>\n",
              "      <td>7</td>\n",
              "      <td>0</td>\n",
              "      <td>Saturday</td>\n",
              "      <td>No</td>\n",
              "      <td>Clear</td>\n",
              "      <td>8.20</td>\n",
              "      <td>12.880</td>\n",
              "      <td>86.0</td>\n",
              "      <td>0.0000</td>\n",
              "      <td>1</td>\n",
              "      <td>2</td>\n",
              "      <td>3</td>\n",
              "    </tr>\n",
              "    <tr>\n",
              "      <th>8</th>\n",
              "      <td>2011-01-01</td>\n",
              "      <td>Winter</td>\n",
              "      <td>2011</td>\n",
              "      <td>Jan</td>\n",
              "      <td>8</td>\n",
              "      <td>0</td>\n",
              "      <td>Saturday</td>\n",
              "      <td>No</td>\n",
              "      <td>Clear</td>\n",
              "      <td>9.84</td>\n",
              "      <td>14.395</td>\n",
              "      <td>75.0</td>\n",
              "      <td>0.0000</td>\n",
              "      <td>1</td>\n",
              "      <td>7</td>\n",
              "      <td>8</td>\n",
              "    </tr>\n",
              "    <tr>\n",
              "      <th>9</th>\n",
              "      <td>2011-01-01</td>\n",
              "      <td>Winter</td>\n",
              "      <td>2011</td>\n",
              "      <td>Jan</td>\n",
              "      <td>9</td>\n",
              "      <td>0</td>\n",
              "      <td>Saturday</td>\n",
              "      <td>No</td>\n",
              "      <td>Clear</td>\n",
              "      <td>13.12</td>\n",
              "      <td>17.425</td>\n",
              "      <td>76.0</td>\n",
              "      <td>0.0000</td>\n",
              "      <td>8</td>\n",
              "      <td>6</td>\n",
              "      <td>14</td>\n",
              "    </tr>\n",
              "  </tbody>\n",
              "</table>\n",
              "</div>"
            ],
            "text/plain": [
              "        date  season  year month  hr holiday   weekday workingday weather  \\\n",
              "0 2011-01-01  Winter  2011   Jan   0       0  Saturday         No   Clear   \n",
              "1 2011-01-01  Winter  2011   Jan   1       0  Saturday         No   Clear   \n",
              "2 2011-01-01  Winter  2011   Jan   2       0  Saturday         No   Clear   \n",
              "3 2011-01-01  Winter  2011   Jan   3       0  Saturday         No   Clear   \n",
              "4 2011-01-01  Winter  2011   Jan   4       0  Saturday         No   Clear   \n",
              "5 2011-01-01  Winter  2011   Jan   5       0  Saturday         No   Misty   \n",
              "6 2011-01-01  Winter  2011   Jan   6       0  Saturday         No   Clear   \n",
              "7 2011-01-01  Winter  2011   Jan   7       0  Saturday         No   Clear   \n",
              "8 2011-01-01  Winter  2011   Jan   8       0  Saturday         No   Clear   \n",
              "9 2011-01-01  Winter  2011   Jan   9       0  Saturday         No   Clear   \n",
              "\n",
              "    temp   atemp  humidity  windspeed  casual  registered  total_count  \n",
              "0   9.84  14.395      81.0     0.0000       3          13           16  \n",
              "1   9.02  13.635      80.0     0.0000       8          32           40  \n",
              "2   9.02  13.635      80.0     0.0000       5          27           32  \n",
              "3   9.84  14.395      75.0     0.0000       3          10           13  \n",
              "4   9.84  14.395      75.0     0.0000       0           1            1  \n",
              "5   9.84  12.880      75.0     6.0032       0           1            1  \n",
              "6   9.02  13.635      80.0     0.0000       2           0            2  \n",
              "7   8.20  12.880      86.0     0.0000       1           2            3  \n",
              "8   9.84  14.395      75.0     0.0000       1           7            8  \n",
              "9  13.12  17.425      76.0     0.0000       8           6           14  "
            ]
          },
          "execution_count": 12,
          "metadata": {},
          "output_type": "execute_result"
        }
      ],
      "source": [
        "data.to_csv(\"data_clean.csv\", index=False)\n",
        "data.head(10)"
      ]
    },
    {
      "cell_type": "markdown",
      "metadata": {},
      "source": [
        "#Exploratory Data Analysis (EDA)\n",
        "PERTANYAAN 1"
      ]
    },
    {
      "cell_type": "code",
      "execution_count": 13,
      "metadata": {
        "colab": {
          "base_uri": "https://localhost:8080/",
          "height": 441
        },
        "id": "1qVpMECFhDtY",
        "outputId": "0b35cc4e-e47e-4f06-e096-ee2695f71427"
      },
      "outputs": [],
      "source": [
        "# Mengonversi kolom 'date' ke format datetime\n",
        "data['date'] = pd.to_datetime(data['date'])\n",
        "\n",
        "# Mengurutkan data berdasarkan tanggal\n",
        "data = data.sort_values(by='date')"
      ]
    },
    {
      "cell_type": "markdown",
      "metadata": {
        "id": "xV2m5YIxgbsQ"
      },
      "source": [
        "#Visualization & Explanatory Analysis PERTANYAAN 1"
      ]
    },
    {
      "cell_type": "code",
      "execution_count": 14,
      "metadata": {
        "colab": {
          "base_uri": "https://localhost:8080/",
          "height": 530
        },
        "id": "Qz9BA0tFjJM5",
        "outputId": "ce0cc46e-5b27-4c6c-8d26-ef7d85acedae"
      },
      "outputs": [
        {
          "data": {
            "image/png": "[encoded data removed]",
            "text/plain": [
              "<Figure size 1200x600 with 1 Axes>"
            ]
          },
          "metadata": {},
          "output_type": "display_data"
        }
      ],
      "source": [
        "# Membuat plot garis untuk menunjukkan tren penggunaan sepeda\n",
        "plt.figure(figsize=(12, 6))\n",
        "plt.plot(data['date'], data['total_count'], label='Total Peminjaman', color='blue')\n",
        "plt.title('Tren Penggunaan Sepeda Seiring Waktu')\n",
        "plt.xlabel('Tanggal')\n",
        "plt.ylabel('Jumlah Total Peminjaman')\n",
        "plt.legend()\n",
        "plt.grid(True)\n",
        "plt.show()"
      ]
    },
    {
      "cell_type": "markdown",
      "metadata": {},
      "source": [
        "#Exploratory Data Analysis (EDA)\n",
        "PERTANYAAN 2"
      ]
    },
    {
      "cell_type": "code",
      "execution_count": 15,
      "metadata": {
        "colab": {
          "base_uri": "https://localhost:8080/",
          "height": 530
        },
        "id": "XWb4QJxThEJr",
        "outputId": "cf4aea6e-fa87-4a4a-807e-3d69c1adc0d4"
      },
      "outputs": [],
      "source": [
        "# Menambahkan kolom baru 'season' yang berisi musim berdasarkan bulan\n",
        "def get_season(month):\n",
        "    if month in [12, 1, 2]:\n",
        "        return 'Winter'\n",
        "    elif month in [3, 4, 5]:\n",
        "        return 'Spring'\n",
        "    elif month in [6, 7, 8]:\n",
        "        return 'Summer'\n",
        "    else:\n",
        "        return 'Fall'\n",
        "\n",
        "data['season'] = data['date'].dt.month.apply(get_season)\n",
        "\n",
        "# Mengelompokkan data berdasarkan musim dan menghitung rata-rata peminjaman\n",
        "grouped_data = data.groupby('season')['total_count'].mean().reset_index()"
      ]
    },
    {
      "cell_type": "markdown",
      "metadata": {},
      "source": [
        "#Visualization & Explanatory Analysis PERTANYAAN 2"
      ]
    },
    {
      "cell_type": "code",
      "execution_count": 16,
      "metadata": {
        "id": "mpaM0gHzhEkx"
      },
      "outputs": [
        {
          "data": {
            "image/png": "[encoded data removed]",
            "text/plain": [
              "<Figure size 800x500 with 1 Axes>"
            ]
          },
          "metadata": {},
          "output_type": "display_data"
        }
      ],
      "source": [
        "# Membuat bar plot untuk membandingkan rata-rata jumlah peminjaman pada setiap musim\n",
        "plt.figure(figsize=(8, 5))\n",
        "plt.bar(grouped_data['season'], grouped_data['total_count'], color=['blue', 'green', 'red', 'orange'])\n",
        "plt.title('Rata-rata Jumlah Peminjaman Sepeda pada Setiap Musim')\n",
        "plt.xlabel('Musim')\n",
        "plt.ylabel('Rata-rata Jumlah Peminjaman')\n",
        "plt.show()"
      ]
    },
    {
      "cell_type": "markdown",
      "metadata": {},
      "source": [
        "#### Pertanyaan 1 : Bagaimana tren penggunaan sepeda berubah seiring berjalannya waktu?\n",
        "#### Pertanyaan 2 : Apakah ada musim tertentu yang menunjukkan peningkatan atau penurunan penggunaan sepeda?\n"
      ]
    },
    {
      "cell_type": "markdown",
      "metadata": {
        "id": "opz9pZYcglTs"
      },
      "source": [
        "#Conclusion"
      ]
    },
    {
      "cell_type": "markdown",
      "metadata": {
        "id": "2Fa3kZ2HgoMy"
      },
      "source": [
        "\n",
        "\n",
        "* Conclution pertanyaan 1 : kita dapat melihat adanya peningkatan pada pertengahan tahun 2011 ,dan mengalami penurunan pada awal tahun 2012 serta meningkat lagi pada pertengahan tahun 2012 , itu tandanya tren penggunaan sepeda cenderung mengalami penurunan pada awal tahun dan mengalami peningkatan yang cukup drastis pada pertengahan sampai akhir tahun.\n",
        "* Conclution pertanyaan 2 : terlihat adanya pola musiman di mana yang paling menonjol adalah penggunaan sepeda cenderung meningkat selama musim panas dan menurun selama musim dingin.\n",
        "\n"
      ]
    }
  ],
  "metadata": {
    "colab": {
      "provenance": []
    },
    "kernelspec": {
      "display_name": "Python 3",
      "name": "python3"
    },
    "language_info": {
      "codemirror_mode": {
        "name": "ipython",
        "version": 3
      },
      "file_extension": ".py",
      "mimetype": "text/x-python",
      "name": "python",
      "nbconvert_exporter": "python",
      "pygments_lexer": "ipython3",
      "version": "3.10.4"
    }
  },
  "nbformat": 4,
  "nbformat_minor": 0
}
